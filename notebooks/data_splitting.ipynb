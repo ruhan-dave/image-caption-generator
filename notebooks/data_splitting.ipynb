{
 "cells": [
  {
   "cell_type": "code",
   "execution_count": 1,
   "metadata": {},
   "outputs": [
    {
     "name": "stdout",
     "output_type": "stream",
     "text": [
      "Found 8090 images.\n",
      "Training: 5663\n",
      "Validation: 1618\n",
      "Testing: 809\n",
      "Random splitting complete. Images are now in 'train', 'val', and 'test' subfolders.\n"
     ]
    }
   ],
   "source": [
    "import os\n",
    "import glob\n",
    "import random\n",
    "import shutil\n",
    "\n",
    "# Set your dataset path\n",
    "DATASET_PATH = \"/Users/ruhwang/Desktop/AI/spring2025_courses/aipi540-dl/caption_generator/data/raw/Flicker8k_Dataset\"\n",
    "\n",
    "# Output directories\n",
    "train_dir = os.path.join(DATASET_PATH, \"train\")\n",
    "val_dir = os.path.join(DATASET_PATH, \"val\")\n",
    "test_dir = os.path.join(DATASET_PATH, \"test\")\n",
    "\n",
    "# Create output directories if they don't exist\n",
    "os.makedirs(train_dir, exist_ok=True)\n",
    "os.makedirs(val_dir, exist_ok=True)\n",
    "os.makedirs(test_dir, exist_ok=True)\n",
    "\n",
    "# Get all image paths (assuming .jpg)\n",
    "image_paths = glob.glob(os.path.join(DATASET_PATH, \"*.jpg\"))\n",
    "print(f\"Found {len(image_paths)} images.\")\n",
    "\n",
    "# Randomly shuffle the image list for random split\n",
    "random.seed(100)  # For reproducibility\n",
    "random.shuffle(image_paths)\n",
    "\n",
    "# Calculate split sizes\n",
    "n_total = len(image_paths)\n",
    "n_train = int(0.7 * n_total)\n",
    "n_val = int(0.2 * n_total)\n",
    "n_test = n_total - n_train - n_val  # Ensures all images are used\n",
    "\n",
    "# Randomly assign images to each set\n",
    "train_images = image_paths[:n_train]\n",
    "val_images = image_paths[n_train:n_train + n_val]\n",
    "test_images = image_paths[n_train + n_val:]\n",
    "\n",
    "print(f\"Training: {len(train_images)}\")\n",
    "print(f\"Validation: {len(val_images)}\")\n",
    "print(f\"Testing: {len(test_images)}\")\n",
    "\n",
    "# Copy files to their respective directories\n",
    "for img_path in train_images:\n",
    "    shutil.copy(img_path, os.path.join(train_dir, os.path.basename(img_path)))\n",
    "for img_path in val_images:\n",
    "    shutil.copy(img_path, os.path.join(val_dir, os.path.basename(img_path)))\n",
    "for img_path in test_images:\n",
    "    shutil.copy(img_path, os.path.join(test_dir, os.path.basename(img_path)))\n",
    "\n",
    "print(\"Random splitting complete. Images are now in 'train', 'val', and 'test' subfolders.\")"
   ]
  },
  {
   "cell_type": "markdown",
   "metadata": {},
   "source": [
    "Don't run just yet"
   ]
  },
  {
   "cell_type": "code",
   "execution_count": null,
   "metadata": {},
   "outputs": [],
   "source": [
    "# Remove original images from the root of DATASET_PATH\n",
    "# for img_path in image_paths:\n",
    "#     try:\n",
    "#         os.remove(img_path)\n",
    "#     except Exception as e:\n",
    "#         print(f\"Could not remove {img_path}: {e}\")\n",
    "\n",
    "# print(\"Original images removed. Only 'train', 'val', and 'test' subfolders remain.\")"
   ]
  },
  {
   "cell_type": "code",
   "execution_count": null,
   "metadata": {},
   "outputs": [],
   "source": []
  },
  {
   "cell_type": "code",
   "execution_count": null,
   "metadata": {},
   "outputs": [],
   "source": []
  }
 ],
 "metadata": {
  "kernelspec": {
   "display_name": ".venv",
   "language": "python",
   "name": "python3"
  },
  "language_info": {
   "codemirror_mode": {
    "name": "ipython",
    "version": 3
   },
   "file_extension": ".py",
   "mimetype": "text/x-python",
   "name": "python",
   "nbconvert_exporter": "python",
   "pygments_lexer": "ipython3",
   "version": "3.12.9"
  }
 },
 "nbformat": 4,
 "nbformat_minor": 2
}
